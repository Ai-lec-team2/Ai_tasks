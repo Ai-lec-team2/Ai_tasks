{
 "cells": [
  {
   "cell_type": "code",
   "execution_count": 6,
   "id": "7217eff8-118d-4795-8c99-9e68fede0f6b",
   "metadata": {},
   "outputs": [
    {
     "name": "stdout",
     "output_type": "stream",
     "text": [
      "Looking in links: https://www.paddlepaddle.org.cn/whl/paddleocr.html\n",
      "Requirement already satisfied: paddleocr in /Users/fatihwolf/miniconda3/lib/python3.12/site-packages (2.10.0)\n",
      "Requirement already satisfied: paddlepaddle in /Users/fatihwolf/miniconda3/lib/python3.12/site-packages (3.0.0)\n",
      "Requirement already satisfied: opencv-python in /Users/fatihwolf/miniconda3/lib/python3.12/site-packages (4.9.0.80)\n",
      "Collecting opencv-python\n",
      "  Downloading opencv_python-4.11.0.86-cp37-abi3-macosx_13_0_arm64.whl.metadata (20 kB)\n",
      "Requirement already satisfied: openai in /Users/fatihwolf/miniconda3/lib/python3.12/site-packages (1.76.0)\n",
      "Collecting openai\n",
      "  Downloading openai-1.79.0-py3-none-any.whl.metadata (25 kB)\n",
      "Requirement already satisfied: shapely in /Users/fatihwolf/miniconda3/lib/python3.12/site-packages (from paddleocr) (2.1.0)\n",
      "Requirement already satisfied: scikit-image in /Users/fatihwolf/miniconda3/lib/python3.12/site-packages (from paddleocr) (0.25.1)\n",
      "Requirement already satisfied: pyclipper in /Users/fatihwolf/miniconda3/lib/python3.12/site-packages (from paddleocr) (1.3.0.post6)\n",
      "Requirement already satisfied: lmdb in /Users/fatihwolf/miniconda3/lib/python3.12/site-packages (from paddleocr) (1.6.2)\n",
      "Requirement already satisfied: tqdm in /Users/fatihwolf/miniconda3/lib/python3.12/site-packages (from paddleocr) (4.66.5)\n",
      "Requirement already satisfied: numpy in /Users/fatihwolf/miniconda3/lib/python3.12/site-packages (from paddleocr) (1.26.0)\n",
      "Requirement already satisfied: rapidfuzz in /Users/fatihwolf/miniconda3/lib/python3.12/site-packages (from paddleocr) (3.13.0)\n",
      "Requirement already satisfied: opencv-contrib-python in /Users/fatihwolf/miniconda3/lib/python3.12/site-packages (from paddleocr) (4.11.0.86)\n",
      "Requirement already satisfied: cython in /Users/fatihwolf/miniconda3/lib/python3.12/site-packages (from paddleocr) (3.1.0)\n",
      "Requirement already satisfied: Pillow in /Users/fatihwolf/miniconda3/lib/python3.12/site-packages (from paddleocr) (10.4.0)\n",
      "Requirement already satisfied: pyyaml in /Users/fatihwolf/miniconda3/lib/python3.12/site-packages (from paddleocr) (6.0.2)\n",
      "Requirement already satisfied: python-docx in /Users/fatihwolf/miniconda3/lib/python3.12/site-packages (from paddleocr) (1.1.2)\n",
      "Requirement already satisfied: beautifulsoup4 in /Users/fatihwolf/miniconda3/lib/python3.12/site-packages (from paddleocr) (4.13.3)\n",
      "Requirement already satisfied: fonttools>=4.24.0 in /Users/fatihwolf/miniconda3/lib/python3.12/site-packages (from paddleocr) (4.55.5)\n",
      "Requirement already satisfied: fire>=0.3.0 in /Users/fatihwolf/miniconda3/lib/python3.12/site-packages (from paddleocr) (0.7.0)\n",
      "Requirement already satisfied: requests in /Users/fatihwolf/miniconda3/lib/python3.12/site-packages (from paddleocr) (2.32.3)\n",
      "Requirement already satisfied: albumentations in /Users/fatihwolf/miniconda3/lib/python3.12/site-packages (from paddleocr) (2.0.7)\n",
      "Requirement already satisfied: albucore in /Users/fatihwolf/miniconda3/lib/python3.12/site-packages (from paddleocr) (0.0.24)\n",
      "Requirement already satisfied: httpx in /Users/fatihwolf/miniconda3/lib/python3.12/site-packages (from paddlepaddle) (0.28.1)\n",
      "Requirement already satisfied: protobuf>=3.20.2 in /Users/fatihwolf/miniconda3/lib/python3.12/site-packages (from paddlepaddle) (5.29.3)\n",
      "Requirement already satisfied: decorator in /Users/fatihwolf/miniconda3/lib/python3.12/site-packages (from paddlepaddle) (5.1.1)\n",
      "Requirement already satisfied: astor in /Users/fatihwolf/miniconda3/lib/python3.12/site-packages (from paddlepaddle) (0.8.1)\n",
      "Requirement already satisfied: opt-einsum==3.3.0 in /Users/fatihwolf/miniconda3/lib/python3.12/site-packages (from paddlepaddle) (3.3.0)\n",
      "Requirement already satisfied: networkx in /Users/fatihwolf/miniconda3/lib/python3.12/site-packages (from paddlepaddle) (3.4.2)\n",
      "Requirement already satisfied: typing-extensions in /Users/fatihwolf/miniconda3/lib/python3.12/site-packages (from paddlepaddle) (4.12.2)\n",
      "Requirement already satisfied: anyio<5,>=3.5.0 in /Users/fatihwolf/miniconda3/lib/python3.12/site-packages (from openai) (4.8.0)\n",
      "Requirement already satisfied: distro<2,>=1.7.0 in /Users/fatihwolf/miniconda3/lib/python3.12/site-packages (from openai) (1.9.0)\n",
      "Requirement already satisfied: jiter<1,>=0.4.0 in /Users/fatihwolf/miniconda3/lib/python3.12/site-packages (from openai) (0.9.0)\n",
      "Requirement already satisfied: pydantic<3,>=1.9.0 in /Users/fatihwolf/miniconda3/lib/python3.12/site-packages (from openai) (2.10.6)\n",
      "Requirement already satisfied: sniffio in /Users/fatihwolf/miniconda3/lib/python3.12/site-packages (from openai) (1.3.1)\n",
      "Requirement already satisfied: idna>=2.8 in /Users/fatihwolf/miniconda3/lib/python3.12/site-packages (from anyio<5,>=3.5.0->openai) (3.7)\n",
      "Requirement already satisfied: termcolor in /Users/fatihwolf/miniconda3/lib/python3.12/site-packages (from fire>=0.3.0->paddleocr) (3.1.0)\n",
      "Requirement already satisfied: certifi in /Users/fatihwolf/miniconda3/lib/python3.12/site-packages (from httpx->paddlepaddle) (2024.12.14)\n",
      "Requirement already satisfied: httpcore==1.* in /Users/fatihwolf/miniconda3/lib/python3.12/site-packages (from httpx->paddlepaddle) (1.0.7)\n",
      "Requirement already satisfied: h11<0.15,>=0.13 in /Users/fatihwolf/miniconda3/lib/python3.12/site-packages (from httpcore==1.*->httpx->paddlepaddle) (0.14.0)\n",
      "Requirement already satisfied: annotated-types>=0.6.0 in /Users/fatihwolf/miniconda3/lib/python3.12/site-packages (from pydantic<3,>=1.9.0->openai) (0.7.0)\n",
      "Requirement already satisfied: pydantic-core==2.27.2 in /Users/fatihwolf/miniconda3/lib/python3.12/site-packages (from pydantic<3,>=1.9.0->openai) (2.27.2)\n",
      "Requirement already satisfied: stringzilla>=3.10.4 in /Users/fatihwolf/miniconda3/lib/python3.12/site-packages (from albucore->paddleocr) (3.12.5)\n",
      "Requirement already satisfied: simsimd>=5.9.2 in /Users/fatihwolf/miniconda3/lib/python3.12/site-packages (from albucore->paddleocr) (6.2.1)\n",
      "Requirement already satisfied: opencv-python-headless>=4.9.0.80 in /Users/fatihwolf/miniconda3/lib/python3.12/site-packages (from albucore->paddleocr) (4.11.0.86)\n",
      "Requirement already satisfied: scipy>=1.10.0 in /Users/fatihwolf/miniconda3/lib/python3.12/site-packages (from albumentations->paddleocr) (1.15.1)\n",
      "Requirement already satisfied: soupsieve>1.2 in /Users/fatihwolf/miniconda3/lib/python3.12/site-packages (from beautifulsoup4->paddleocr) (2.6)\n",
      "Requirement already satisfied: lxml>=3.1.0 in /Users/fatihwolf/miniconda3/lib/python3.12/site-packages (from python-docx->paddleocr) (5.4.0)\n",
      "Requirement already satisfied: charset-normalizer<4,>=2 in /Users/fatihwolf/miniconda3/lib/python3.12/site-packages (from requests->paddleocr) (3.3.2)\n",
      "Requirement already satisfied: urllib3<3,>=1.21.1 in /Users/fatihwolf/miniconda3/lib/python3.12/site-packages (from requests->paddleocr) (1.26.20)\n",
      "Requirement already satisfied: imageio!=2.35.0,>=2.33 in /Users/fatihwolf/miniconda3/lib/python3.12/site-packages (from scikit-image->paddleocr) (2.37.0)\n",
      "Requirement already satisfied: tifffile>=2022.8.12 in /Users/fatihwolf/miniconda3/lib/python3.12/site-packages (from scikit-image->paddleocr) (2025.1.10)\n",
      "Requirement already satisfied: packaging>=21 in /Users/fatihwolf/miniconda3/lib/python3.12/site-packages (from scikit-image->paddleocr) (24.1)\n",
      "Requirement already satisfied: lazy-loader>=0.4 in /Users/fatihwolf/miniconda3/lib/python3.12/site-packages (from scikit-image->paddleocr) (0.4)\n",
      "Downloading opencv_python-4.11.0.86-cp37-abi3-macosx_13_0_arm64.whl (37.3 MB)\n",
      "\u001b[2K   \u001b[90m━━━━━━━━━━━━━━━━━━━━━━━━━━━━━━━━━━━━━━━━\u001b[0m \u001b[32m37.3/37.3 MB\u001b[0m \u001b[31m4.1 MB/s\u001b[0m eta \u001b[36m0:00:00\u001b[0m00:01\u001b[0m00:01\u001b[0m\n",
      "\u001b[?25hDownloading openai-1.79.0-py3-none-any.whl (683 kB)\n",
      "\u001b[2K   \u001b[90m━━━━━━━━━━━━━━━━━━━━━━━━━━━━━━━━━━━━━━━━\u001b[0m \u001b[32m683.3/683.3 kB\u001b[0m \u001b[31m1.7 MB/s\u001b[0m eta \u001b[36m0:00:00\u001b[0m-:--:--\u001b[0m\n",
      "\u001b[?25hInstalling collected packages: opencv-python, openai\n",
      "  Attempting uninstall: opencv-python\n",
      "    Found existing installation: opencv-python 4.9.0.80\n",
      "    Uninstalling opencv-python-4.9.0.80:\n",
      "      Successfully uninstalled opencv-python-4.9.0.80\n",
      "  Attempting uninstall: openai\n",
      "    Found existing installation: openai 1.76.0\n",
      "    Uninstalling openai-1.76.0:\n",
      "      Successfully uninstalled openai-1.76.0\n",
      "Successfully installed openai-1.79.0 opencv-python-4.11.0.86\n",
      "Note: you may need to restart the kernel to use updated packages.\n"
     ]
    }
   ],
   "source": [
    "pip install paddleocr paddlepaddle opencv-python openai --upgrade -f https://www.paddlepaddle.org.cn/whl/paddleocr.html\n"
   ]
  },
  {
   "cell_type": "code",
   "execution_count": 1,
   "id": "840752ad-b21a-443f-ba27-cfe7eb6a233d",
   "metadata": {},
   "outputs": [
    {
     "name": "stderr",
     "output_type": "stream",
     "text": [
      "/Users/fatihwolf/miniconda3/lib/python3.12/site-packages/paddle/utils/cpp_extension/extension_utils.py:711: UserWarning: No ccache found. Please be aware that recompiling all source files may be required. You can download and install ccache from: https://github.com/ccache/ccache/blob/master/doc/INSTALL.md\n",
      "  warnings.warn(warning_message)\n"
     ]
    },
    {
     "name": "stdout",
     "output_type": "stream",
     "text": [
      "download https://paddleocr.bj.bcebos.com/PP-OCRv3/english/en_PP-OCRv3_det_infer.tar to /Users/fatihwolf/.paddleocr/whl/det/en/en_PP-OCRv3_det_infer/en_PP-OCRv3_det_infer.tar\n"
     ]
    },
    {
     "name": "stderr",
     "output_type": "stream",
     "text": [
      "100%|██████████████████████████████████████| 3910/3910 [00:20<00:00, 192.61it/s]\n"
     ]
    },
    {
     "name": "stdout",
     "output_type": "stream",
     "text": [
      "download https://paddleocr.bj.bcebos.com/PP-OCRv4/english/en_PP-OCRv4_rec_infer.tar to /Users/fatihwolf/.paddleocr/whl/rec/en/en_PP-OCRv4_rec_infer/en_PP-OCRv4_rec_infer.tar\n"
     ]
    },
    {
     "name": "stderr",
     "output_type": "stream",
     "text": [
      "100%|████████████████████████████████████| 10000/10000 [00:24<00:00, 406.87it/s]\n"
     ]
    },
    {
     "name": "stdout",
     "output_type": "stream",
     "text": [
      "download https://paddleocr.bj.bcebos.com/dygraph_v2.0/ch/ch_ppocr_mobile_v2.0_cls_infer.tar to /Users/fatihwolf/.paddleocr/whl/cls/ch_ppocr_mobile_v2.0_cls_infer/ch_ppocr_mobile_v2.0_cls_infer.tar\n"
     ]
    },
    {
     "name": "stderr",
     "output_type": "stream",
     "text": [
      "100%|██████████████████████████████████████| 2138/2138 [00:15<00:00, 135.65it/s]"
     ]
    },
    {
     "name": "stdout",
     "output_type": "stream",
     "text": [
      "[2025/05/17 17:07:33] ppocr DEBUG: Namespace(help='==SUPPRESS==', use_gpu=False, use_xpu=False, use_npu=False, use_mlu=False, use_gcu=False, ir_optim=True, use_tensorrt=False, min_subgraph_size=15, precision='fp32', gpu_mem=500, gpu_id=0, image_dir=None, page_num=0, det_algorithm='DB', det_model_dir='/Users/fatihwolf/.paddleocr/whl/det/en/en_PP-OCRv3_det_infer', det_limit_side_len=960, det_limit_type='max', det_box_type='quad', det_db_thresh=0.3, det_db_box_thresh=0.6, det_db_unclip_ratio=1.5, max_batch_size=10, use_dilation=False, det_db_score_mode='fast', det_east_score_thresh=0.8, det_east_cover_thresh=0.1, det_east_nms_thresh=0.2, det_sast_score_thresh=0.5, det_sast_nms_thresh=0.2, det_pse_thresh=0, det_pse_box_thresh=0.85, det_pse_min_area=16, det_pse_scale=1, scales=[8, 16, 32], alpha=1.0, beta=1.0, fourier_degree=5, rec_algorithm='SVTR_LCNet', rec_model_dir='/Users/fatihwolf/.paddleocr/whl/rec/en/en_PP-OCRv4_rec_infer', rec_image_inverse=True, rec_image_shape='3, 48, 320', rec_batch_num=6, max_text_length=25, rec_char_dict_path='/Users/fatihwolf/miniconda3/lib/python3.12/site-packages/paddleocr/ppocr/utils/en_dict.txt', use_space_char=True, vis_font_path='./doc/fonts/simfang.ttf', drop_score=0.5, e2e_algorithm='PGNet', e2e_model_dir=None, e2e_limit_side_len=768, e2e_limit_type='max', e2e_pgnet_score_thresh=0.5, e2e_char_dict_path='./ppocr/utils/ic15_dict.txt', e2e_pgnet_valid_set='totaltext', e2e_pgnet_mode='fast', use_angle_cls=True, cls_model_dir='/Users/fatihwolf/.paddleocr/whl/cls/ch_ppocr_mobile_v2.0_cls_infer', cls_image_shape='3, 48, 192', label_list=['0', '180'], cls_batch_num=6, cls_thresh=0.9, enable_mkldnn=False, cpu_threads=10, use_pdserving=False, warmup=False, sr_model_dir=None, sr_image_shape='3, 32, 128', sr_batch_num=1, draw_img_save_dir='./inference_results', save_crop_res=False, crop_res_save_dir='./output', use_mp=False, total_process_num=1, process_id=0, benchmark=False, save_log_path='./log_output/', show_log=True, use_onnx=False, onnx_providers=False, onnx_sess_options=False, return_word_box=False, output='./output', table_max_len=488, table_algorithm='TableAttn', table_model_dir=None, merge_no_span_structure=True, table_char_dict_path=None, formula_algorithm='LaTeXOCR', formula_model_dir=None, formula_char_dict_path=None, formula_batch_num=1, layout_model_dir=None, layout_dict_path=None, layout_score_threshold=0.5, layout_nms_threshold=0.5, kie_algorithm='LayoutXLM', ser_model_dir=None, re_model_dir=None, use_visual_backbone=True, ser_dict_path='../train_data/XFUND/class_list_xfun.txt', ocr_order_method=None, mode='structure', image_orientation=False, layout=True, table=True, formula=False, ocr=True, recovery=False, recovery_to_markdown=False, use_pdf2docx_api=False, invert=False, binarize=False, alphacolor=(255, 255, 255), lang='en', det=True, rec=True, type='ocr', savefile=False, ocr_version='PP-OCRv4', structure_version='PP-StructureV2')\n"
     ]
    },
    {
     "name": "stderr",
     "output_type": "stream",
     "text": [
      "\n"
     ]
    },
    {
     "name": "stdout",
     "output_type": "stream",
     "text": [
      "[2025/05/17 17:07:34] ppocr DEBUG: dt_boxes num : 5, elapsed : 0.1284339427947998\n",
      "[2025/05/17 17:07:34] ppocr DEBUG: cls num  : 5, elapsed : 0.017378807067871094\n",
      "[2025/05/17 17:07:35] ppocr DEBUG: rec_res num  : 5, elapsed : 1.1412088871002197\n"
     ]
    },
    {
     "data": {
      "text/plain": [
       "True"
      ]
     },
     "execution_count": 1,
     "metadata": {},
     "output_type": "execute_result"
    }
   ],
   "source": [
    "from paddleocr import PaddleOCR\n",
    "import cv2\n",
    "import numpy as np\n",
    "from PIL import Image\n",
    "\n",
    "# Step 1: Load image and initialize OCR\n",
    "img_path = \"image_1007.jpg\"\n",
    "ocr = PaddleOCR(use_angle_cls=True, lang='en')\n",
    "result = ocr.ocr(img_path, cls=True)\n",
    "\n",
    "# Step 2: Read image with OpenCV\n",
    "image = cv2.imread(img_path)\n",
    "mask = np.zeros(image.shape[:2], dtype=np.uint8)  # start with a black mask\n",
    "\n",
    "# Step 3: Draw white-filled polygons on mask for all detected text boxes\n",
    "for line in result[0]:\n",
    "    points = np.array(line[0]).astype(np.int32)\n",
    "    cv2.fillPoly(mask, [points], 255)  # white area marks text\n",
    "\n",
    "# Optional: visualize where the text is\n",
    "# cv2.imwrite(\"text_mask.jpg\", mask)\n",
    "\n",
    "# Step 4: Inpaint (remove text)\n",
    "inpainted = cv2.inpaint(image, mask, inpaintRadius=3, flags=cv2.INPAINT_TELEA)\n",
    "cv2.imwrite(\"cleaned_image.jpg\", inpainted)\n"
   ]
  },
  {
   "cell_type": "code",
   "execution_count": null,
   "id": "b98e764d-5ac7-46c3-aedf-96c29ca2504e",
   "metadata": {},
   "outputs": [
    {
     "name": "stdout",
     "output_type": "stream",
     "text": [
      "[2025/05/17 17:13:28] ppocr DEBUG: Namespace(help='==SUPPRESS==', use_gpu=False, use_xpu=False, use_npu=False, use_mlu=False, use_gcu=False, ir_optim=True, use_tensorrt=False, min_subgraph_size=15, precision='fp32', gpu_mem=500, gpu_id=0, image_dir=None, page_num=0, det_algorithm='DB', det_model_dir='/Users/fatihwolf/.paddleocr/whl/det/en/en_PP-OCRv3_det_infer', det_limit_side_len=960, det_limit_type='max', det_box_type='quad', det_db_thresh=0.3, det_db_box_thresh=0.6, det_db_unclip_ratio=1.5, max_batch_size=10, use_dilation=False, det_db_score_mode='fast', det_east_score_thresh=0.8, det_east_cover_thresh=0.1, det_east_nms_thresh=0.2, det_sast_score_thresh=0.5, det_sast_nms_thresh=0.2, det_pse_thresh=0, det_pse_box_thresh=0.85, det_pse_min_area=16, det_pse_scale=1, scales=[8, 16, 32], alpha=1.0, beta=1.0, fourier_degree=5, rec_algorithm='SVTR_LCNet', rec_model_dir='/Users/fatihwolf/.paddleocr/whl/rec/en/en_PP-OCRv4_rec_infer', rec_image_inverse=True, rec_image_shape='3, 48, 320', rec_batch_num=6, max_text_length=25, rec_char_dict_path='/Users/fatihwolf/miniconda3/lib/python3.12/site-packages/paddleocr/ppocr/utils/en_dict.txt', use_space_char=True, vis_font_path='./doc/fonts/simfang.ttf', drop_score=0.5, e2e_algorithm='PGNet', e2e_model_dir=None, e2e_limit_side_len=768, e2e_limit_type='max', e2e_pgnet_score_thresh=0.5, e2e_char_dict_path='./ppocr/utils/ic15_dict.txt', e2e_pgnet_valid_set='totaltext', e2e_pgnet_mode='fast', use_angle_cls=True, cls_model_dir='/Users/fatihwolf/.paddleocr/whl/cls/ch_ppocr_mobile_v2.0_cls_infer', cls_image_shape='3, 48, 192', label_list=['0', '180'], cls_batch_num=6, cls_thresh=0.9, enable_mkldnn=False, cpu_threads=10, use_pdserving=False, warmup=False, sr_model_dir=None, sr_image_shape='3, 32, 128', sr_batch_num=1, draw_img_save_dir='./inference_results', save_crop_res=False, crop_res_save_dir='./output', use_mp=False, total_process_num=1, process_id=0, benchmark=False, save_log_path='./log_output/', show_log=True, use_onnx=False, onnx_providers=False, onnx_sess_options=False, return_word_box=False, output='./output', table_max_len=488, table_algorithm='TableAttn', table_model_dir=None, merge_no_span_structure=True, table_char_dict_path=None, formula_algorithm='LaTeXOCR', formula_model_dir=None, formula_char_dict_path=None, formula_batch_num=1, layout_model_dir=None, layout_dict_path=None, layout_score_threshold=0.5, layout_nms_threshold=0.5, kie_algorithm='LayoutXLM', ser_model_dir=None, re_model_dir=None, use_visual_backbone=True, ser_dict_path='../train_data/XFUND/class_list_xfun.txt', ocr_order_method=None, mode='structure', image_orientation=False, layout=True, table=True, formula=False, ocr=True, recovery=False, recovery_to_markdown=False, use_pdf2docx_api=False, invert=False, binarize=False, alphacolor=(255, 255, 255), lang='en', det=True, rec=True, type='ocr', savefile=False, ocr_version='PP-OCRv4', structure_version='PP-StructureV2')\n",
      "[2025/05/17 17:13:28] ppocr DEBUG: dt_boxes num : 5, elapsed : 0.12274909019470215\n",
      "[2025/05/17 17:13:28] ppocr DEBUG: cls num  : 5, elapsed : 0.01713275909423828\n",
      "[2025/05/17 17:13:29] ppocr DEBUG: rec_res num  : 5, elapsed : 1.132112979888916\n",
      "🧠 Detected: HAVEYOUEVERBEENREVSNG YOUR FINALS.WORRYING ABOUTWHETHERYOUWLLPASSORNOT ANDTHEN YOUREACHAPOINTWHEREYOUSAY STARECAT.COM FUCK.THS. SHT\n",
      "🧼 Cleaned Caption: HAVE YOU EVER BEEN STUDYING FOR YOUR FINALS, WORRYING ABOUT WHETHER YOU WILL PASS OR NOT, AND THEN YOU REACH A POINT WHERE YOU SAY, \"YOU KNOW WHAT, LET'S TAKE A FUN BREAK INSTEAD!\"\n",
      "✅ Inpainted image saved.\n",
      "📄 HTML saved as meme_output.html\n"
     ]
    }
   ],
   "source": [
    "import cv2\n",
    "import numpy as np\n",
    "from paddleocr import PaddleOCR\n",
    "import openai\n",
    "from PIL import Image\n",
    "\n",
    "# === Set up OpenAI client ===\n",
    "from openai import OpenAI\n",
    "client = OpenAI(api_key=\"\")  # Replace with your key\n",
    "\n",
    "# === Load image ===\n",
    "img_path = \"image_1007.jpg\"\n",
    "image = cv2.imread(img_path)\n",
    "\n",
    "# === Run OCR ===\n",
    "ocr = PaddleOCR(use_angle_cls=True, lang='en')\n",
    "result = ocr.ocr(img_path, cls=True)\n",
    "\n",
    "# === Extract text for GPT ===\n",
    "detected_texts = [line[1][0] for line in result[0]]\n",
    "full_text = \" \".join(detected_texts)\n",
    "print(\"🧠 Detected:\", full_text)\n",
    "\n",
    "# === Send to GPT-4o ===\n",
    "comparison_prompt = f\"\"\"\n",
    "You are an assistant that rewrites meme captions to be suitable for children under 13 years old.\n",
    "Keep the message fun but remove any inappropriate or mature language.\n",
    "\n",
    "Original: {full_text}\n",
    "\n",
    "Kid-Friendly version:\n",
    "\"\"\"\n",
    "\n",
    "response = client.chat.completions.create(\n",
    "    model=\"gpt-4o\",\n",
    "    messages=[{\"role\": \"user\", \"content\": comparison_prompt}],\n",
    "    max_tokens=150,\n",
    "    temperature=0.8\n",
    ")\n",
    "\n",
    "cleaned_caption = response.choices[0].message.content.strip()\n",
    "print(\"🧼 Cleaned Caption:\", cleaned_caption)\n",
    "\n",
    "# === Create mask from text bounding boxes ===\n",
    "mask = np.zeros(image.shape[:2], dtype=np.uint8)\n",
    "for line in result[0]:\n",
    "    points = np.array(line[0]).astype(np.int32)\n",
    "    cv2.fillPoly(mask, [points], 255)\n",
    "\n",
    "# === Inpaint ===\n",
    "inpainted = cv2.inpaint(image, mask, 3, cv2.INPAINT_TELEA)\n",
    "cv2.imwrite(\"cleaned_image.jpg\", inpainted)\n",
    "print(\"✅ Inpainted image saved.\")\n",
    "\n",
    "# === Generate HTML output ===\n",
    "html = f\"\"\"\n",
    "<!DOCTYPE html>\n",
    "<html>\n",
    "<head><meta charset=\"UTF-8\"><title>Meme for Kids</title></head>\n",
    "<body style=\"text-align:center; font-family:sans-serif;\">\n",
    "  <h2>Cleaned Meme</h2>\n",
    "  <img src=\"cleaned_image.jpg\" width=\"500\"/><br/><br/>\n",
    "  <p><strong>Caption:</strong> {cleaned_caption}</p>\n",
    "</body>\n",
    "</html>\n",
    "\"\"\"\n",
    "\n",
    "with open(\"meme_output.html\", \"w\", encoding=\"utf-8\") as f:\n",
    "    f.write(html)\n",
    "\n",
    "print(\"📄 HTML saved as meme_output.html\")\n"
   ]
  },
  {
   "cell_type": "code",
   "execution_count": 5,
   "id": "3024c8eb-9c29-4692-8420-1d2b8e38f72c",
   "metadata": {},
   "outputs": [
    {
     "name": "stdout",
     "output_type": "stream",
     "text": [
      "✅ HTML with embedded image saved.\n"
     ]
    }
   ],
   "source": [
    "import base64\n",
    "import io\n",
    "from PIL import Image\n",
    "\n",
    "# Convert inpainted image to PIL and then to base64\n",
    "inpainted_rgb = cv2.cvtColor(inpainted, cv2.COLOR_BGR2RGB)\n",
    "pil_img = Image.fromarray(inpainted_rgb)\n",
    "buffered = io.BytesIO()\n",
    "pil_img.save(buffered, format=\"JPEG\")\n",
    "img_str = base64.b64encode(buffered.getvalue()).decode(\"utf-8\")\n",
    "\n",
    "# Use in HTML\n",
    "html = f\"\"\"\n",
    "<!DOCTYPE html>\n",
    "<html>\n",
    "<head><meta charset=\"UTF-8\"><title>Meme for Kids</title></head>\n",
    "<body style=\"text-align:center; font-family:sans-serif;\">\n",
    "  <h2>Cleaned Meme</h2>\n",
    "  <img src=\"data:image/jpeg;base64,{img_str}\" width=\"500\"/><br/><br/>\n",
    "  <p><strong>Caption:</strong> {cleaned_caption}</p>\n",
    "</body>\n",
    "</html>\n",
    "\"\"\"\n",
    "\n",
    "with open(\"meme_output.html\", \"w\", encoding=\"utf-8\") as f:\n",
    "    f.write(html)\n",
    "\n",
    "print(\"✅ HTML with embedded image saved.\")\n"
   ]
  },
  {
   "cell_type": "markdown",
   "id": "c550ca17",
   "metadata": {},
   "source": [
    "Below is the latest version it takes the images detects the text and than asks gpt partially for detection of inappropriateness and than retruns safe or what to change. if there is change needed we put a black box where the text is at and than rewrite the clean version."
   ]
  },
  {
   "cell_type": "code",
   "execution_count": null,
   "id": "e074d038-0256-47aa-9a40-3a3f8c568968",
   "metadata": {},
   "outputs": [
    {
     "name": "stdout",
     "output_type": "stream",
     "text": [
      "[2025/05/17 18:03:53] ppocr DEBUG: Namespace(help='==SUPPRESS==', use_gpu=False, use_xpu=False, use_npu=False, use_mlu=False, use_gcu=False, ir_optim=True, use_tensorrt=False, min_subgraph_size=15, precision='fp32', gpu_mem=500, gpu_id=0, image_dir=None, page_num=0, det_algorithm='DB', det_model_dir='/Users/fatihwolf/.paddleocr/whl/det/en/en_PP-OCRv3_det_infer', det_limit_side_len=960, det_limit_type='max', det_box_type='quad', det_db_thresh=0.3, det_db_box_thresh=0.6, det_db_unclip_ratio=1.5, max_batch_size=10, use_dilation=False, det_db_score_mode='fast', det_east_score_thresh=0.8, det_east_cover_thresh=0.1, det_east_nms_thresh=0.2, det_sast_score_thresh=0.5, det_sast_nms_thresh=0.2, det_pse_thresh=0, det_pse_box_thresh=0.85, det_pse_min_area=16, det_pse_scale=1, scales=[8, 16, 32], alpha=1.0, beta=1.0, fourier_degree=5, rec_algorithm='SVTR_LCNet', rec_model_dir='/Users/fatihwolf/.paddleocr/whl/rec/en/en_PP-OCRv4_rec_infer', rec_image_inverse=True, rec_image_shape='3, 48, 320', rec_batch_num=6, max_text_length=25, rec_char_dict_path='/Users/fatihwolf/miniconda3/lib/python3.12/site-packages/paddleocr/ppocr/utils/en_dict.txt', use_space_char=True, vis_font_path='./doc/fonts/simfang.ttf', drop_score=0.5, e2e_algorithm='PGNet', e2e_model_dir=None, e2e_limit_side_len=768, e2e_limit_type='max', e2e_pgnet_score_thresh=0.5, e2e_char_dict_path='./ppocr/utils/ic15_dict.txt', e2e_pgnet_valid_set='totaltext', e2e_pgnet_mode='fast', use_angle_cls=True, cls_model_dir='/Users/fatihwolf/.paddleocr/whl/cls/ch_ppocr_mobile_v2.0_cls_infer', cls_image_shape='3, 48, 192', label_list=['0', '180'], cls_batch_num=6, cls_thresh=0.9, enable_mkldnn=False, cpu_threads=10, use_pdserving=False, warmup=False, sr_model_dir=None, sr_image_shape='3, 32, 128', sr_batch_num=1, draw_img_save_dir='./inference_results', save_crop_res=False, crop_res_save_dir='./output', use_mp=False, total_process_num=1, process_id=0, benchmark=False, save_log_path='./log_output/', show_log=True, use_onnx=False, onnx_providers=False, onnx_sess_options=False, return_word_box=False, output='./output', table_max_len=488, table_algorithm='TableAttn', table_model_dir=None, merge_no_span_structure=True, table_char_dict_path=None, formula_algorithm='LaTeXOCR', formula_model_dir=None, formula_char_dict_path=None, formula_batch_num=1, layout_model_dir=None, layout_dict_path=None, layout_score_threshold=0.5, layout_nms_threshold=0.5, kie_algorithm='LayoutXLM', ser_model_dir=None, re_model_dir=None, use_visual_backbone=True, ser_dict_path='../train_data/XFUND/class_list_xfun.txt', ocr_order_method=None, mode='structure', image_orientation=False, layout=True, table=True, formula=False, ocr=True, recovery=False, recovery_to_markdown=False, use_pdf2docx_api=False, invert=False, binarize=False, alphacolor=(255, 255, 255), lang='en', det=True, rec=True, type='ocr', savefile=False, ocr_version='PP-OCRv4', structure_version='PP-StructureV2')\n",
      "[2025/05/17 18:03:53] ppocr DEBUG: dt_boxes num : 10, elapsed : 0.059456825256347656\n",
      "[2025/05/17 18:03:53] ppocr DEBUG: cls num  : 10, elapsed : 0.031323909759521484\n",
      "[2025/05/17 18:03:54] ppocr DEBUG: rec_res num  : 10, elapsed : 0.969135046005249\n",
      "🧠 Original: INAMEDMYHARD → GPT Reply: SAFE\n",
      "🧠 Original: DRIVE \"DAT ASS\" → GPT Reply: DRIVE \"THAT CAR\"\n",
      "🧠 Original: SOTHATONCEAMONTH MYCOMPUTER WILL → GPT Reply: SAFE\n",
      "🧠 Original: ASK ME IF I WANT TO BACK DAT ASS UP. → GPT Reply: ASK ME IF I WANT TO DANCE.\n",
      "✅ Saved: partially_cleaned_image2.jpg\n"
     ]
    }
   ],
   "source": [
    "import cv2\n",
    "import numpy as np\n",
    "from paddleocr import PaddleOCR\n",
    "from openai import OpenAI\n",
    "\n",
    "# === Setup OpenAI client ===\n",
    "client = OpenAI(api_key=\"\")  # ← 🔑 Replace with your actual key\n",
    "\n",
    "# === Load image ===\n",
    "img_path = \"image_1057.jpg\"\n",
    "image = cv2.imread(img_path)\n",
    "\n",
    "# === Run OCR ===\n",
    "ocr = PaddleOCR(use_angle_cls=True, lang='en')\n",
    "result = ocr.ocr(img_path, cls=True)\n",
    "\n",
    "def black_box_and_replace(image, box, cleaned_text, font_scale=1.0, thickness=2):\n",
    "    pts = np.array(box).astype(np.int32)\n",
    "    x1 = min([p[0] for p in pts])\n",
    "    y1 = min([p[1] for p in pts])\n",
    "    x2 = max([p[0] for p in pts])\n",
    "    y2 = max([p[1] for p in pts])\n",
    "\n",
    "    # Draw solid black rectangle\n",
    "    cv2.rectangle(image, (x1, y1), (x2, y2), (0, 0, 0), thickness=-1)\n",
    "\n",
    "    # Calculate font size to fit the box\n",
    "    font = cv2.FONT_HERSHEY_SIMPLEX\n",
    "    text_size, _ = cv2.getTextSize(cleaned_text, font, font_scale, thickness)\n",
    "    text_width, text_height = text_size\n",
    "\n",
    "    # Adjust font size to fit the box\n",
    "    max_width = x2 - x1 - 10\n",
    "    while text_width > max_width and font_scale > 0.3:\n",
    "        font_scale -= 0.05\n",
    "        text_size, _ = cv2.getTextSize(cleaned_text, font, font_scale, thickness)\n",
    "        text_width, text_height = text_size\n",
    "\n",
    "    # Center text in box\n",
    "    text_x = x1 + (x2 - x1 - text_width) // 2\n",
    "    text_y = y1 + (y2 - y1 + text_height) // 2\n",
    "\n",
    "    # Draw white text on black box\n",
    "    cv2.putText(image, cleaned_text, (text_x, text_y), font, font_scale, (255, 255, 255), thickness, cv2.LINE_AA)\n",
    "\n",
    "    return image\n",
    "\n",
    "# === Process Each OCR Text Box ===\n",
    "for line in result[0]:\n",
    "    box = line[0]\n",
    "    text = line[1][0].strip()\n",
    "\n",
    "    if len(text) < 2:\n",
    "        continue  # skip short garbage\n",
    "\n",
    "    prompt = f\"\"\"\n",
    "You are a content moderation assistant for meme captions.\n",
    "\n",
    "Your job is to check if the input text is inappropriate for children under 13.\n",
    "\n",
    "If the input **contains inappropriate language**, rewrite it into a **natural, clean, and child-appropriate version** that:\n",
    "- Preserves the original intent or emotion (e.g., frustration, surprise, humor)\n",
    "- Uses **real and understandable words**\n",
    "- Avoids made-up substitutes or censored spellings (e.g., no asterisks or partial words)\n",
    "- Uses normal sentence structure (not dot-separated words)\n",
    "\n",
    "Keep the new version **similar in length** to the original so it fits visually in the image.\n",
    "\n",
    "If the original text is already appropriate for children, reply with just: SAFE\n",
    "\n",
    "Text: {text}\n",
    "\"\"\"\n",
    "\n",
    "    try:\n",
    "        response = client.chat.completions.create(\n",
    "            model=\"gpt-4o\",\n",
    "            messages=[{\"role\": \"user\", \"content\": prompt}],\n",
    "            temperature=0.3,\n",
    "            max_tokens=60\n",
    "        )\n",
    "        reply = response.choices[0].message.content.strip()\n",
    "    except Exception as e:\n",
    "        print(f\"⚠️ GPT failed on '{text}': {e}\")\n",
    "        continue\n",
    "\n",
    "    print(f\"🧠 Original: {text} → GPT Reply: {reply}\")\n",
    "\n",
    "    # === Filter safe results ===\n",
    "    if reply.upper() != \"SAFE\":\n",
    "        cleaned_text = reply.replace('\"', '').replace(\"...\", \" \").replace(\"..\", \" \").replace(\".\", \" \").strip()\n",
    "        cleaned_text = cleaned_text.capitalize()\n",
    "        image = black_box_and_replace(image, box, cleaned_text)\n",
    "\n",
    "# === Save Final Output ===\n",
    "cv2.imwrite(\"partially_cleaned_image2.jpg\", image)\n",
    "print(\"✅ Saved: partially_cleaned_image2.jpg\")\n"
   ]
  },
  {
   "cell_type": "code",
   "execution_count": null,
   "id": "7e7815a1-3398-4d4b-a2c5-be380afb1bef",
   "metadata": {},
   "outputs": [],
   "source": []
  }
 ],
 "metadata": {
  "kernelspec": {
   "display_name": "Python 3 (ipykernel)",
   "language": "python",
   "name": "python3"
  },
  "language_info": {
   "codemirror_mode": {
    "name": "ipython",
    "version": 3
   },
   "file_extension": ".py",
   "mimetype": "text/x-python",
   "name": "python",
   "nbconvert_exporter": "python",
   "pygments_lexer": "ipython3",
   "version": "3.12.8"
  }
 },
 "nbformat": 4,
 "nbformat_minor": 5
}
